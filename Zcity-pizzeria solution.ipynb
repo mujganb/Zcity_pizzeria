{
 "cells": [
  {
   "cell_type": "code",
   "execution_count": 1,
   "id": "italic-watershed",
   "metadata": {},
   "outputs": [],
   "source": [
    "import numpy as np"
   ]
  },
  {
   "cell_type": "code",
   "execution_count": 37,
   "id": "linear-makeup",
   "metadata": {},
   "outputs": [],
   "source": [
    "def input_test(N, M, x, y, k):\n",
    "    c = -1\n",
    "    \n",
    "    if 1<N<1000: out=''\n",
    "    else: \n",
    "        out1='wrong dimension'\n",
    "        c=0\n",
    "        \n",
    "    if 1<M<1000: out2=''\n",
    "    else: \n",
    "        out2='wrong pizzeria number'\n",
    "        c=0\n",
    "        \n",
    "    if 1<=x<=N and 1<=y<=N: out3=''\n",
    "    else: \n",
    "        out3='wrong coordinate'\n",
    "        c=0\n",
    "        \n",
    "    if 1<=k<=1000: out4=''\n",
    "    else: \n",
    "        out4='wrong capacity'\n",
    "        c=0\n",
    "    \n",
    "    return c, out1+out2+out3+out4\n",
    "\n",
    "def pizzeria_city(input_text):\n",
    "    \n",
    "    text = open(input_text).read().split('\\n')\n",
    "    text0 = text[0].split()\n",
    "    \n",
    "    dim = int(text0[0]) #N\n",
    "    M = int(text0[1]) #M\n",
    "    \n",
    "    block = np.zeros((dim, dim))\n",
    "    \n",
    "    \n",
    "    for line in text[1:]:\n",
    "        x,y,k = [int(i) for i in line.split()]   \n",
    "        \n",
    "        c, message = input_test(dim, M, x, y, k)\n",
    "        if c==0: \n",
    "            print(message)\n",
    "            return\n",
    "        \n",
    "        x = int(x) -1\n",
    "        y = int(y) -1\n",
    "        k = int(k)       \n",
    "        \n",
    "        coord_block = np.zeros((dim, dim))\n",
    "        \n",
    "        for i in range(k+1):\n",
    "            # get horizontals and verticals \n",
    "            if x+i < dim: coord_block[x+i][y] = 1\n",
    "            if x-i >= 0: coord_block[x-i][y] = 1\n",
    "            if y+i < dim: coord_block[x][y+i] = 1\n",
    "            if y-i >= 0: coord_block[x][y-i] = 1\n",
    "        for i in range(1,k):\n",
    "            # get diagonals\n",
    "            if (x+i < dim) & (y+i < dim): coord_block[x+i][y+i] = 1\n",
    "            if (x-i >= 0) & (y-i >= 0): coord_block[x-i][y-i] = 1\n",
    "            if (x+i < dim) & (y-i >= 0): coord_block[x+i][y-i] = 1\n",
    "            if (x-i >= 0) & (y+i < dim): coord_block[x-i][y+i] = 1     \n",
    "        \n",
    "        coord_block = np.flipud(coord_block)\n",
    "        \n",
    "        block += coord_block\n",
    "    \n",
    "    \n",
    "    print(np.max(block))"
   ]
  },
  {
   "cell_type": "code",
   "execution_count": 41,
   "id": "marked-africa",
   "metadata": {},
   "outputs": [
    {
     "name": "stdout",
     "output_type": "stream",
     "text": [
      "2.0\n"
     ]
    }
   ],
   "source": [
    "pizzeria_city('test.txt')"
   ]
  }
 ],
 "metadata": {
  "kernelspec": {
   "display_name": "Python 3",
   "language": "python",
   "name": "python3"
  },
  "language_info": {
   "codemirror_mode": {
    "name": "ipython",
    "version": 3
   },
   "file_extension": ".py",
   "mimetype": "text/x-python",
   "name": "python",
   "nbconvert_exporter": "python",
   "pygments_lexer": "ipython3",
   "version": "3.8.3"
  }
 },
 "nbformat": 4,
 "nbformat_minor": 5
}
